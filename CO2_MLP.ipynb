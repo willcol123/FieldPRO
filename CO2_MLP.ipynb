{
  "nbformat": 4,
  "nbformat_minor": 0,
  "metadata": {
    "colab": {
      "provenance": []
    },
    "kernelspec": {
      "name": "python3",
      "display_name": "Python 3"
    },
    "language_info": {
      "name": "python"
    }
  },
  "cells": [
    {
      "cell_type": "code",
      "execution_count": null,
      "metadata": {
        "id": "49XAlypH0z8f"
      },
      "outputs": [],
      "source": [
        "import pandas as pd\n",
        "import numpy as np\n",
        "import matplotlib.pyplot as plt\n",
        "from sklearn.preprocessing import StandardScaler\n",
        "from sklearn.model_selection import train_test_split\n",
        "from sklearn.metrics import r2_score\n",
        "from sklearn.linear_model import SGDRegressor\n",
        "from sklearn.neural_network import MLPRegressor\n",
        "from sklearn.preprocessing import MinMaxScaler\n",
        "from sklearn.preprocessing import RobustScaler\n",
        "from sklearn.preprocessing import StandardScaler\n",
        "from sklearn.model_selection import train_test_split\n",
        "from keras.models import Sequential\n",
        "from keras.layers import Dense\n",
        "from keras.layers import LSTM\n",
        "from tensorflow import keras\n",
        "import tensorflow as tf\n",
        "import sklearn.metrics as skl"
      ]
    },
    {
      "cell_type": "code",
      "source": [
        "dados=pd.read_csv(r\"/content/dados_redes.csv\")\n",
        "isotermas=dados.Artigo.drop_duplicates().reset_index().Artigo\n"
      ],
      "metadata": {
        "id": "pZF4G96O09Zi"
      },
      "execution_count": null,
      "outputs": []
    },
    {
      "cell_type": "code",
      "source": [
        "ativacao=['linear',\n",
        "          'relu',\n",
        "          'sigmoid',\n",
        "          'softsign',\n",
        "          'tanh'\n",
        "          ]\n",
        "\n",
        "\n",
        "X_train=pd.read_excel(r\"/content/iso_treino.xlsx\")\n",
        "X_test=pd.read_excel(r\"/content/iso_teste.xlsx\")\n",
        "dados_train=dados[dados.Artigo.isin(X_train.Artigo)]\n",
        "dados_test=dados[dados.Artigo.isin(X_test.Artigo)]\n",
        "\n",
        "X_train=dados_train[['area','vol','T','Pressao']]\n",
        "Y_train=dados_train['Adsorcao']\n",
        "X_test=dados_test[['area','vol','T','Pressao']]\n",
        "Y_test=dados_test['Adsorcao']\n",
        "X_td=dados[['area','vol','T','Pressao']]\n",
        "X_norm_train=MinMaxScaler().fit(X_td).transform(X_train)\n",
        "X_norm_test=MinMaxScaler().fit(X_td).transform(X_test)"
      ],
      "metadata": {
        "id": "uel2kOhU09wJ"
      },
      "execution_count": null,
      "outputs": []
    },
    {
      "cell_type": "code",
      "source": [
        "def rede2(camadas,ep=200):\n",
        "\n",
        "\n",
        "\n",
        "    cm1=int(camadas[0])\n",
        "    #cm2=int(camadas[1])\n",
        "    #cm3=int(camadas[2])\n",
        "    ativ1=ativacao[int(camadas[1])]\n",
        "    #ativ2=ativacao[int(camadas[3])]\n",
        "    #ativ3=ativacao[int(camadas[5])]\n",
        "\n",
        "    regressor = Sequential()\n",
        "    regressor.add(tf.keras.Input(shape=(4,)))\n",
        "    regressor.add(Dense(cm1,activation=ativ1))\n",
        "    #regressor.add(Dense(cm2,activation=ativ2))\n",
        "    #regressor.add(Dense(cm3,activation=ativ3))\n",
        "\n",
        "\n",
        "    regressor.add(Dense(units=1,activation='relu'))\n",
        "\n",
        "    #opt = keras.optimizers.SGD(decay=1e-6, momentum=0.9, nesterov=True)\n",
        "\n",
        "    opt = keras.optimizers.Adam()\n",
        "    regressor.compile(loss='mean_squared_error', optimizer=opt, metrics=['mean_absolute_error'])\n",
        "    model = regressor.fit(X_norm_train, Y_train,use_multiprocessing=True, epochs =ep,verbose=0)\n",
        "    mae_test=skl.mean_absolute_error(Y_test,regressor.predict(X_norm_test))\n",
        "    mae_train=skl.mean_absolute_error(Y_train,regressor.predict(X_norm_train))\n",
        "   # print(\"REDE:\" + str(cm1) +\"-\"+ativ1+\"-\"+ str(cm2)+\"-\"+ativ2)\n",
        "    print(mae_test)\n",
        "    print(mae_train)\n",
        "    return regressor,model,[mae_test,mae_train,ep]\n"
      ],
      "metadata": {
        "id": "vXxzT1Af1JbP"
      },
      "execution_count": null,
      "outputs": []
    },
    {
      "cell_type": "code",
      "source": [
        "params=[]\n",
        "for i in range(5,200,5):\n",
        "  regressor,model,parametros = rede2([30,1],ep=i)\n",
        "  params.append(parametros)\n",
        "  regressor.save('1cm-novo/model1cm-'+str(i)+'.h5')\n",
        "  print(i)"
      ],
      "metadata": {
        "id": "8Zdk1jVkDmg0",
        "colab": {
          "base_uri": "https://localhost:8080/",
          "height": 1000
        },
        "outputId": "775f8ed8-dca9-461e-e8d6-a64f6bfd5cc4"
      },
      "execution_count": null,
      "outputs": [
        {
          "output_type": "stream",
          "name": "stdout",
          "text": [
            "63/63 [==============================] - 0s 1ms/step\n",
            "213/213 [==============================] - 0s 1ms/step\n",
            "2.544308635353749\n",
            "1.9567726577605946\n",
            "5\n",
            "63/63 [==============================] - 0s 1ms/step\n",
            "213/213 [==============================] - 0s 1ms/step\n",
            "2.5044749414425316\n",
            "1.9510696013424995\n",
            "10\n",
            "63/63 [==============================] - 0s 1ms/step\n",
            "213/213 [==============================] - 0s 1ms/step\n",
            "2.6127005050298227\n",
            "1.8454463072546423\n",
            "15\n",
            "63/63 [==============================] - 0s 1ms/step\n",
            "213/213 [==============================] - 0s 1ms/step\n",
            "2.336991057124139\n",
            "1.6459885596805142\n",
            "20\n",
            "63/63 [==============================] - 0s 1ms/step\n",
            "213/213 [==============================] - 0s 1ms/step\n",
            "2.4709319949677373\n",
            "1.6721224399398975\n",
            "25\n",
            "63/63 [==============================] - 0s 1ms/step\n",
            "213/213 [==============================] - 0s 1ms/step\n",
            "2.460816543199583\n",
            "1.6498535133942231\n",
            "30\n",
            "63/63 [==============================] - 0s 1ms/step\n",
            "213/213 [==============================] - 0s 1ms/step\n",
            "8.599875308231931\n",
            "9.655205572089796\n",
            "35\n",
            "63/63 [==============================] - 0s 1ms/step\n",
            "213/213 [==============================] - 0s 1ms/step\n",
            "2.6242379116318424\n",
            "1.7454293758243509\n",
            "40\n",
            "63/63 [==============================] - 0s 1ms/step\n",
            "213/213 [==============================] - 0s 1ms/step\n",
            "2.2989129092245792\n",
            "1.4967149816901626\n",
            "45\n",
            "63/63 [==============================] - 0s 1ms/step\n",
            "213/213 [==============================] - 0s 1ms/step\n",
            "2.0744830615949925\n",
            "1.4545617300976825\n",
            "50\n",
            "63/63 [==============================] - 0s 2ms/step\n",
            "213/213 [==============================] - 0s 1ms/step\n",
            "2.5134918110339406\n",
            "1.6632738894780834\n",
            "55\n",
            "63/63 [==============================] - 0s 1ms/step\n",
            "213/213 [==============================] - 0s 1ms/step\n",
            "8.599875308231931\n",
            "9.655205572089796\n",
            "60\n",
            "63/63 [==============================] - 0s 1ms/step\n",
            "213/213 [==============================] - 0s 1ms/step\n",
            "2.369634626867819\n",
            "1.4049118034796169\n",
            "65\n",
            "63/63 [==============================] - 0s 1ms/step\n",
            "213/213 [==============================] - 0s 1ms/step\n",
            "8.599875308231931\n",
            "9.655205572089796\n",
            "70\n"
          ]
        },
        {
          "output_type": "error",
          "ename": "KeyboardInterrupt",
          "evalue": "ignored",
          "traceback": [
            "\u001b[0;31m---------------------------------------------------------------------------\u001b[0m",
            "\u001b[0;31mKeyboardInterrupt\u001b[0m                         Traceback (most recent call last)",
            "\u001b[0;32m<ipython-input-44-c0234d0a6987>\u001b[0m in \u001b[0;36m<module>\u001b[0;34m\u001b[0m\n\u001b[1;32m      1\u001b[0m \u001b[0mparams\u001b[0m\u001b[0;34m=\u001b[0m\u001b[0;34m[\u001b[0m\u001b[0;34m]\u001b[0m\u001b[0;34m\u001b[0m\u001b[0;34m\u001b[0m\u001b[0m\n\u001b[1;32m      2\u001b[0m \u001b[0;32mfor\u001b[0m \u001b[0mi\u001b[0m \u001b[0;32min\u001b[0m \u001b[0mrange\u001b[0m\u001b[0;34m(\u001b[0m\u001b[0;36m5\u001b[0m\u001b[0;34m,\u001b[0m\u001b[0;36m200\u001b[0m\u001b[0;34m,\u001b[0m\u001b[0;36m5\u001b[0m\u001b[0;34m)\u001b[0m\u001b[0;34m:\u001b[0m\u001b[0;34m\u001b[0m\u001b[0;34m\u001b[0m\u001b[0m\n\u001b[0;32m----> 3\u001b[0;31m   \u001b[0mregressor\u001b[0m\u001b[0;34m,\u001b[0m\u001b[0mmodel\u001b[0m\u001b[0;34m,\u001b[0m\u001b[0mparametros\u001b[0m \u001b[0;34m=\u001b[0m \u001b[0mrede2\u001b[0m\u001b[0;34m(\u001b[0m\u001b[0;34m[\u001b[0m\u001b[0;36m30\u001b[0m\u001b[0;34m,\u001b[0m\u001b[0;36m1\u001b[0m\u001b[0;34m]\u001b[0m\u001b[0;34m,\u001b[0m\u001b[0mep\u001b[0m\u001b[0;34m=\u001b[0m\u001b[0mi\u001b[0m\u001b[0;34m)\u001b[0m\u001b[0;34m\u001b[0m\u001b[0;34m\u001b[0m\u001b[0m\n\u001b[0m\u001b[1;32m      4\u001b[0m   \u001b[0mparams\u001b[0m\u001b[0;34m.\u001b[0m\u001b[0mappend\u001b[0m\u001b[0;34m(\u001b[0m\u001b[0mparametros\u001b[0m\u001b[0;34m)\u001b[0m\u001b[0;34m\u001b[0m\u001b[0;34m\u001b[0m\u001b[0m\n\u001b[1;32m      5\u001b[0m   \u001b[0mregressor\u001b[0m\u001b[0;34m.\u001b[0m\u001b[0msave\u001b[0m\u001b[0;34m(\u001b[0m\u001b[0;34m'1cm-novo/model1cm-'\u001b[0m\u001b[0;34m+\u001b[0m\u001b[0mstr\u001b[0m\u001b[0;34m(\u001b[0m\u001b[0mi\u001b[0m\u001b[0;34m)\u001b[0m\u001b[0;34m+\u001b[0m\u001b[0;34m'.h5'\u001b[0m\u001b[0;34m)\u001b[0m\u001b[0;34m\u001b[0m\u001b[0;34m\u001b[0m\u001b[0m\n",
            "\u001b[0;32m<ipython-input-26-7751c9bd73ef>\u001b[0m in \u001b[0;36mrede2\u001b[0;34m(camadas, ep)\u001b[0m\n\u001b[1;32m     23\u001b[0m     \u001b[0mopt\u001b[0m \u001b[0;34m=\u001b[0m \u001b[0mkeras\u001b[0m\u001b[0;34m.\u001b[0m\u001b[0moptimizers\u001b[0m\u001b[0;34m.\u001b[0m\u001b[0mAdam\u001b[0m\u001b[0;34m(\u001b[0m\u001b[0;34m)\u001b[0m\u001b[0;34m\u001b[0m\u001b[0;34m\u001b[0m\u001b[0m\n\u001b[1;32m     24\u001b[0m     \u001b[0mregressor\u001b[0m\u001b[0;34m.\u001b[0m\u001b[0mcompile\u001b[0m\u001b[0;34m(\u001b[0m\u001b[0mloss\u001b[0m\u001b[0;34m=\u001b[0m\u001b[0;34m'mean_squared_error'\u001b[0m\u001b[0;34m,\u001b[0m \u001b[0moptimizer\u001b[0m\u001b[0;34m=\u001b[0m\u001b[0mopt\u001b[0m\u001b[0;34m,\u001b[0m \u001b[0mmetrics\u001b[0m\u001b[0;34m=\u001b[0m\u001b[0;34m[\u001b[0m\u001b[0;34m'mean_absolute_error'\u001b[0m\u001b[0;34m]\u001b[0m\u001b[0;34m)\u001b[0m\u001b[0;34m\u001b[0m\u001b[0;34m\u001b[0m\u001b[0m\n\u001b[0;32m---> 25\u001b[0;31m     \u001b[0mmodel\u001b[0m \u001b[0;34m=\u001b[0m \u001b[0mregressor\u001b[0m\u001b[0;34m.\u001b[0m\u001b[0mfit\u001b[0m\u001b[0;34m(\u001b[0m\u001b[0mX_norm_train\u001b[0m\u001b[0;34m,\u001b[0m \u001b[0mY_train\u001b[0m\u001b[0;34m,\u001b[0m\u001b[0muse_multiprocessing\u001b[0m\u001b[0;34m=\u001b[0m\u001b[0;32mTrue\u001b[0m\u001b[0;34m,\u001b[0m \u001b[0mepochs\u001b[0m \u001b[0;34m=\u001b[0m\u001b[0mep\u001b[0m\u001b[0;34m,\u001b[0m\u001b[0mverbose\u001b[0m\u001b[0;34m=\u001b[0m\u001b[0;36m0\u001b[0m\u001b[0;34m)\u001b[0m\u001b[0;34m\u001b[0m\u001b[0;34m\u001b[0m\u001b[0m\n\u001b[0m\u001b[1;32m     26\u001b[0m     \u001b[0mmae_test\u001b[0m\u001b[0;34m=\u001b[0m\u001b[0mskl\u001b[0m\u001b[0;34m.\u001b[0m\u001b[0mmean_absolute_error\u001b[0m\u001b[0;34m(\u001b[0m\u001b[0mY_test\u001b[0m\u001b[0;34m,\u001b[0m\u001b[0mregressor\u001b[0m\u001b[0;34m.\u001b[0m\u001b[0mpredict\u001b[0m\u001b[0;34m(\u001b[0m\u001b[0mX_norm_test\u001b[0m\u001b[0;34m)\u001b[0m\u001b[0;34m)\u001b[0m\u001b[0;34m\u001b[0m\u001b[0;34m\u001b[0m\u001b[0m\n\u001b[1;32m     27\u001b[0m     \u001b[0mmae_train\u001b[0m\u001b[0;34m=\u001b[0m\u001b[0mskl\u001b[0m\u001b[0;34m.\u001b[0m\u001b[0mmean_absolute_error\u001b[0m\u001b[0;34m(\u001b[0m\u001b[0mY_train\u001b[0m\u001b[0;34m,\u001b[0m\u001b[0mregressor\u001b[0m\u001b[0;34m.\u001b[0m\u001b[0mpredict\u001b[0m\u001b[0;34m(\u001b[0m\u001b[0mX_norm_train\u001b[0m\u001b[0;34m)\u001b[0m\u001b[0;34m)\u001b[0m\u001b[0;34m\u001b[0m\u001b[0;34m\u001b[0m\u001b[0m\n",
            "\u001b[0;32m/usr/local/lib/python3.7/dist-packages/keras/utils/traceback_utils.py\u001b[0m in \u001b[0;36merror_handler\u001b[0;34m(*args, **kwargs)\u001b[0m\n\u001b[1;32m     62\u001b[0m     \u001b[0mfiltered_tb\u001b[0m \u001b[0;34m=\u001b[0m \u001b[0;32mNone\u001b[0m\u001b[0;34m\u001b[0m\u001b[0;34m\u001b[0m\u001b[0m\n\u001b[1;32m     63\u001b[0m     \u001b[0;32mtry\u001b[0m\u001b[0;34m:\u001b[0m\u001b[0;34m\u001b[0m\u001b[0;34m\u001b[0m\u001b[0m\n\u001b[0;32m---> 64\u001b[0;31m       \u001b[0;32mreturn\u001b[0m \u001b[0mfn\u001b[0m\u001b[0;34m(\u001b[0m\u001b[0;34m*\u001b[0m\u001b[0margs\u001b[0m\u001b[0;34m,\u001b[0m \u001b[0;34m**\u001b[0m\u001b[0mkwargs\u001b[0m\u001b[0;34m)\u001b[0m\u001b[0;34m\u001b[0m\u001b[0;34m\u001b[0m\u001b[0m\n\u001b[0m\u001b[1;32m     65\u001b[0m     \u001b[0;32mexcept\u001b[0m \u001b[0mException\u001b[0m \u001b[0;32mas\u001b[0m \u001b[0me\u001b[0m\u001b[0;34m:\u001b[0m  \u001b[0;31m# pylint: disable=broad-except\u001b[0m\u001b[0;34m\u001b[0m\u001b[0;34m\u001b[0m\u001b[0m\n\u001b[1;32m     66\u001b[0m       \u001b[0mfiltered_tb\u001b[0m \u001b[0;34m=\u001b[0m \u001b[0m_process_traceback_frames\u001b[0m\u001b[0;34m(\u001b[0m\u001b[0me\u001b[0m\u001b[0;34m.\u001b[0m\u001b[0m__traceback__\u001b[0m\u001b[0;34m)\u001b[0m\u001b[0;34m\u001b[0m\u001b[0;34m\u001b[0m\u001b[0m\n",
            "\u001b[0;32m/usr/local/lib/python3.7/dist-packages/keras/engine/training.py\u001b[0m in \u001b[0;36mfit\u001b[0;34m(self, x, y, batch_size, epochs, verbose, callbacks, validation_split, validation_data, shuffle, class_weight, sample_weight, initial_epoch, steps_per_epoch, validation_steps, validation_batch_size, validation_freq, max_queue_size, workers, use_multiprocessing)\u001b[0m\n\u001b[1;32m   1407\u001b[0m                 _r=1):\n\u001b[1;32m   1408\u001b[0m               \u001b[0mcallbacks\u001b[0m\u001b[0;34m.\u001b[0m\u001b[0mon_train_batch_begin\u001b[0m\u001b[0;34m(\u001b[0m\u001b[0mstep\u001b[0m\u001b[0;34m)\u001b[0m\u001b[0;34m\u001b[0m\u001b[0;34m\u001b[0m\u001b[0m\n\u001b[0;32m-> 1409\u001b[0;31m               \u001b[0mtmp_logs\u001b[0m \u001b[0;34m=\u001b[0m \u001b[0mself\u001b[0m\u001b[0;34m.\u001b[0m\u001b[0mtrain_function\u001b[0m\u001b[0;34m(\u001b[0m\u001b[0miterator\u001b[0m\u001b[0;34m)\u001b[0m\u001b[0;34m\u001b[0m\u001b[0;34m\u001b[0m\u001b[0m\n\u001b[0m\u001b[1;32m   1410\u001b[0m               \u001b[0;32mif\u001b[0m \u001b[0mdata_handler\u001b[0m\u001b[0;34m.\u001b[0m\u001b[0mshould_sync\u001b[0m\u001b[0;34m:\u001b[0m\u001b[0;34m\u001b[0m\u001b[0;34m\u001b[0m\u001b[0m\n\u001b[1;32m   1411\u001b[0m                 \u001b[0mcontext\u001b[0m\u001b[0;34m.\u001b[0m\u001b[0masync_wait\u001b[0m\u001b[0;34m(\u001b[0m\u001b[0;34m)\u001b[0m\u001b[0;34m\u001b[0m\u001b[0;34m\u001b[0m\u001b[0m\n",
            "\u001b[0;32m/usr/local/lib/python3.7/dist-packages/tensorflow/python/util/traceback_utils.py\u001b[0m in \u001b[0;36merror_handler\u001b[0;34m(*args, **kwargs)\u001b[0m\n\u001b[1;32m    148\u001b[0m     \u001b[0mfiltered_tb\u001b[0m \u001b[0;34m=\u001b[0m \u001b[0;32mNone\u001b[0m\u001b[0;34m\u001b[0m\u001b[0;34m\u001b[0m\u001b[0m\n\u001b[1;32m    149\u001b[0m     \u001b[0;32mtry\u001b[0m\u001b[0;34m:\u001b[0m\u001b[0;34m\u001b[0m\u001b[0;34m\u001b[0m\u001b[0m\n\u001b[0;32m--> 150\u001b[0;31m       \u001b[0;32mreturn\u001b[0m \u001b[0mfn\u001b[0m\u001b[0;34m(\u001b[0m\u001b[0;34m*\u001b[0m\u001b[0margs\u001b[0m\u001b[0;34m,\u001b[0m \u001b[0;34m**\u001b[0m\u001b[0mkwargs\u001b[0m\u001b[0;34m)\u001b[0m\u001b[0;34m\u001b[0m\u001b[0;34m\u001b[0m\u001b[0m\n\u001b[0m\u001b[1;32m    151\u001b[0m     \u001b[0;32mexcept\u001b[0m \u001b[0mException\u001b[0m \u001b[0;32mas\u001b[0m \u001b[0me\u001b[0m\u001b[0;34m:\u001b[0m\u001b[0;34m\u001b[0m\u001b[0;34m\u001b[0m\u001b[0m\n\u001b[1;32m    152\u001b[0m       \u001b[0mfiltered_tb\u001b[0m \u001b[0;34m=\u001b[0m \u001b[0m_process_traceback_frames\u001b[0m\u001b[0;34m(\u001b[0m\u001b[0me\u001b[0m\u001b[0;34m.\u001b[0m\u001b[0m__traceback__\u001b[0m\u001b[0;34m)\u001b[0m\u001b[0;34m\u001b[0m\u001b[0;34m\u001b[0m\u001b[0m\n",
            "\u001b[0;32m/usr/local/lib/python3.7/dist-packages/tensorflow/python/eager/def_function.py\u001b[0m in \u001b[0;36m__call__\u001b[0;34m(self, *args, **kwds)\u001b[0m\n\u001b[1;32m    913\u001b[0m \u001b[0;34m\u001b[0m\u001b[0m\n\u001b[1;32m    914\u001b[0m       \u001b[0;32mwith\u001b[0m \u001b[0mOptionalXlaContext\u001b[0m\u001b[0;34m(\u001b[0m\u001b[0mself\u001b[0m\u001b[0;34m.\u001b[0m\u001b[0m_jit_compile\u001b[0m\u001b[0;34m)\u001b[0m\u001b[0;34m:\u001b[0m\u001b[0;34m\u001b[0m\u001b[0;34m\u001b[0m\u001b[0m\n\u001b[0;32m--> 915\u001b[0;31m         \u001b[0mresult\u001b[0m \u001b[0;34m=\u001b[0m \u001b[0mself\u001b[0m\u001b[0;34m.\u001b[0m\u001b[0m_call\u001b[0m\u001b[0;34m(\u001b[0m\u001b[0;34m*\u001b[0m\u001b[0margs\u001b[0m\u001b[0;34m,\u001b[0m \u001b[0;34m**\u001b[0m\u001b[0mkwds\u001b[0m\u001b[0;34m)\u001b[0m\u001b[0;34m\u001b[0m\u001b[0;34m\u001b[0m\u001b[0m\n\u001b[0m\u001b[1;32m    916\u001b[0m \u001b[0;34m\u001b[0m\u001b[0m\n\u001b[1;32m    917\u001b[0m       \u001b[0mnew_tracing_count\u001b[0m \u001b[0;34m=\u001b[0m \u001b[0mself\u001b[0m\u001b[0;34m.\u001b[0m\u001b[0mexperimental_get_tracing_count\u001b[0m\u001b[0;34m(\u001b[0m\u001b[0;34m)\u001b[0m\u001b[0;34m\u001b[0m\u001b[0;34m\u001b[0m\u001b[0m\n",
            "\u001b[0;32m/usr/local/lib/python3.7/dist-packages/tensorflow/python/eager/def_function.py\u001b[0m in \u001b[0;36m_call\u001b[0;34m(self, *args, **kwds)\u001b[0m\n\u001b[1;32m    945\u001b[0m       \u001b[0;31m# In this case we have created variables on the first call, so we run the\u001b[0m\u001b[0;34m\u001b[0m\u001b[0;34m\u001b[0m\u001b[0;34m\u001b[0m\u001b[0m\n\u001b[1;32m    946\u001b[0m       \u001b[0;31m# defunned version which is guaranteed to never create variables.\u001b[0m\u001b[0;34m\u001b[0m\u001b[0;34m\u001b[0m\u001b[0;34m\u001b[0m\u001b[0m\n\u001b[0;32m--> 947\u001b[0;31m       \u001b[0;32mreturn\u001b[0m \u001b[0mself\u001b[0m\u001b[0;34m.\u001b[0m\u001b[0m_stateless_fn\u001b[0m\u001b[0;34m(\u001b[0m\u001b[0;34m*\u001b[0m\u001b[0margs\u001b[0m\u001b[0;34m,\u001b[0m \u001b[0;34m**\u001b[0m\u001b[0mkwds\u001b[0m\u001b[0;34m)\u001b[0m  \u001b[0;31m# pylint: disable=not-callable\u001b[0m\u001b[0;34m\u001b[0m\u001b[0;34m\u001b[0m\u001b[0m\n\u001b[0m\u001b[1;32m    948\u001b[0m     \u001b[0;32melif\u001b[0m \u001b[0mself\u001b[0m\u001b[0;34m.\u001b[0m\u001b[0m_stateful_fn\u001b[0m \u001b[0;32mis\u001b[0m \u001b[0;32mnot\u001b[0m \u001b[0;32mNone\u001b[0m\u001b[0;34m:\u001b[0m\u001b[0;34m\u001b[0m\u001b[0;34m\u001b[0m\u001b[0m\n\u001b[1;32m    949\u001b[0m       \u001b[0;31m# Release the lock early so that multiple threads can perform the call\u001b[0m\u001b[0;34m\u001b[0m\u001b[0;34m\u001b[0m\u001b[0;34m\u001b[0m\u001b[0m\n",
            "\u001b[0;32m/usr/local/lib/python3.7/dist-packages/tensorflow/python/eager/function.py\u001b[0m in \u001b[0;36m__call__\u001b[0;34m(self, *args, **kwargs)\u001b[0m\n\u001b[1;32m   2452\u001b[0m        filtered_flat_args) = self._maybe_define_function(args, kwargs)\n\u001b[1;32m   2453\u001b[0m     return graph_function._call_flat(\n\u001b[0;32m-> 2454\u001b[0;31m         filtered_flat_args, captured_inputs=graph_function.captured_inputs)  # pylint: disable=protected-access\n\u001b[0m\u001b[1;32m   2455\u001b[0m \u001b[0;34m\u001b[0m\u001b[0m\n\u001b[1;32m   2456\u001b[0m   \u001b[0;34m@\u001b[0m\u001b[0mproperty\u001b[0m\u001b[0;34m\u001b[0m\u001b[0;34m\u001b[0m\u001b[0m\n",
            "\u001b[0;32m/usr/local/lib/python3.7/dist-packages/tensorflow/python/eager/function.py\u001b[0m in \u001b[0;36m_call_flat\u001b[0;34m(self, args, captured_inputs, cancellation_manager)\u001b[0m\n\u001b[1;32m   1859\u001b[0m       \u001b[0;31m# No tape is watching; skip to running the function.\u001b[0m\u001b[0;34m\u001b[0m\u001b[0;34m\u001b[0m\u001b[0;34m\u001b[0m\u001b[0m\n\u001b[1;32m   1860\u001b[0m       return self._build_call_outputs(self._inference_function.call(\n\u001b[0;32m-> 1861\u001b[0;31m           ctx, args, cancellation_manager=cancellation_manager))\n\u001b[0m\u001b[1;32m   1862\u001b[0m     forward_backward = self._select_forward_and_backward_functions(\n\u001b[1;32m   1863\u001b[0m         \u001b[0margs\u001b[0m\u001b[0;34m,\u001b[0m\u001b[0;34m\u001b[0m\u001b[0;34m\u001b[0m\u001b[0m\n",
            "\u001b[0;32m/usr/local/lib/python3.7/dist-packages/tensorflow/python/eager/function.py\u001b[0m in \u001b[0;36mcall\u001b[0;34m(self, ctx, args, cancellation_manager)\u001b[0m\n\u001b[1;32m    500\u001b[0m               \u001b[0minputs\u001b[0m\u001b[0;34m=\u001b[0m\u001b[0margs\u001b[0m\u001b[0;34m,\u001b[0m\u001b[0;34m\u001b[0m\u001b[0;34m\u001b[0m\u001b[0m\n\u001b[1;32m    501\u001b[0m               \u001b[0mattrs\u001b[0m\u001b[0;34m=\u001b[0m\u001b[0mattrs\u001b[0m\u001b[0;34m,\u001b[0m\u001b[0;34m\u001b[0m\u001b[0;34m\u001b[0m\u001b[0m\n\u001b[0;32m--> 502\u001b[0;31m               ctx=ctx)\n\u001b[0m\u001b[1;32m    503\u001b[0m         \u001b[0;32melse\u001b[0m\u001b[0;34m:\u001b[0m\u001b[0;34m\u001b[0m\u001b[0;34m\u001b[0m\u001b[0m\n\u001b[1;32m    504\u001b[0m           outputs = execute.execute_with_cancellation(\n",
            "\u001b[0;32m/usr/local/lib/python3.7/dist-packages/tensorflow/python/eager/execute.py\u001b[0m in \u001b[0;36mquick_execute\u001b[0;34m(op_name, num_outputs, inputs, attrs, ctx, name)\u001b[0m\n\u001b[1;32m     53\u001b[0m     \u001b[0mctx\u001b[0m\u001b[0;34m.\u001b[0m\u001b[0mensure_initialized\u001b[0m\u001b[0;34m(\u001b[0m\u001b[0;34m)\u001b[0m\u001b[0;34m\u001b[0m\u001b[0;34m\u001b[0m\u001b[0m\n\u001b[1;32m     54\u001b[0m     tensors = pywrap_tfe.TFE_Py_Execute(ctx._handle, device_name, op_name,\n\u001b[0;32m---> 55\u001b[0;31m                                         inputs, attrs, num_outputs)\n\u001b[0m\u001b[1;32m     56\u001b[0m   \u001b[0;32mexcept\u001b[0m \u001b[0mcore\u001b[0m\u001b[0;34m.\u001b[0m\u001b[0m_NotOkStatusException\u001b[0m \u001b[0;32mas\u001b[0m \u001b[0me\u001b[0m\u001b[0;34m:\u001b[0m\u001b[0;34m\u001b[0m\u001b[0;34m\u001b[0m\u001b[0m\n\u001b[1;32m     57\u001b[0m     \u001b[0;32mif\u001b[0m \u001b[0mname\u001b[0m \u001b[0;32mis\u001b[0m \u001b[0;32mnot\u001b[0m \u001b[0;32mNone\u001b[0m\u001b[0;34m:\u001b[0m\u001b[0;34m\u001b[0m\u001b[0;34m\u001b[0m\u001b[0m\n",
            "\u001b[0;31mKeyboardInterrupt\u001b[0m: "
          ]
        }
      ]
    },
    {
      "cell_type": "code",
      "source": [
        "#Salvando a performance treino x validação\n",
        "pr=pd.DataFrame(params).rename(columns={0:'Teste',1:'Treino'})\n",
        "pr.to_excel('1-camada-epochs-novo-v2.xlsx')"
      ],
      "metadata": {
        "id": "jZepptKCDmlj"
      },
      "execution_count": null,
      "outputs": []
    },
    {
      "cell_type": "code",
      "source": [],
      "metadata": {
        "id": "KkqxIhF41JrI"
      },
      "execution_count": null,
      "outputs": []
    },
    {
      "cell_type": "markdown",
      "source": [
        "Analise com os dados reais\n"
      ],
      "metadata": {
        "id": "iOt-iwgC4-Y6"
      }
    },
    {
      "cell_type": "code",
      "source": [
        "from keras.saving.save import load_model\n",
        "#modelo=load_model('/content/model1cm-145-v2.h5')\n"
      ],
      "metadata": {
        "id": "4JkOeIAKcJLG",
        "colab": {
          "base_uri": "https://localhost:8080/",
          "height": 321
        },
        "outputId": "d9d70f50-7f8c-4d94-ec2b-21339d1547ae"
      },
      "execution_count": null,
      "outputs": [
        {
          "output_type": "error",
          "ename": "ModuleNotFoundError",
          "evalue": "ignored",
          "traceback": [
            "\u001b[0;31m---------------------------------------------------------------------------\u001b[0m",
            "\u001b[0;31mModuleNotFoundError\u001b[0m                       Traceback (most recent call last)",
            "\u001b[0;32m<ipython-input-2-173ea423e303>\u001b[0m in \u001b[0;36m<cell line: 1>\u001b[0;34m()\u001b[0m\n\u001b[0;32m----> 1\u001b[0;31m \u001b[0;32mfrom\u001b[0m \u001b[0mkeras\u001b[0m\u001b[0;34m.\u001b[0m\u001b[0msaving\u001b[0m\u001b[0;34m.\u001b[0m\u001b[0msave\u001b[0m \u001b[0;32mimport\u001b[0m \u001b[0mload_model\u001b[0m\u001b[0;34m\u001b[0m\u001b[0;34m\u001b[0m\u001b[0m\n\u001b[0m\u001b[1;32m      2\u001b[0m \u001b[0;31m#modelo=load_model('/content/model1cm-145-v2.h5')\u001b[0m\u001b[0;34m\u001b[0m\u001b[0;34m\u001b[0m\u001b[0m\n",
            "\u001b[0;31mModuleNotFoundError\u001b[0m: No module named 'keras.saving.save'",
            "",
            "\u001b[0;31m---------------------------------------------------------------------------\u001b[0;32m\nNOTE: If your import is failing due to a missing package, you can\nmanually install dependencies using either !pip or !apt.\n\nTo view examples of installing some common dependencies, click the\n\"Open Examples\" button below.\n\u001b[0;31m---------------------------------------------------------------------------\u001b[0m\n"
          ],
          "errorDetails": {
            "actions": [
              {
                "action": "open_url",
                "actionText": "Open Examples",
                "url": "/notebooks/snippets/importing_libraries.ipynb"
              }
            ]
          }
        }
      ]
    },
    {
      "cell_type": "code",
      "source": [
        "dados_reais=pd.read_excel(\"/content/dataset.xlsx\")"
      ],
      "metadata": {
        "id": "saJv51Xl1JyN"
      },
      "execution_count": null,
      "outputs": []
    },
    {
      "cell_type": "code",
      "source": [
        "X=dados_reais[['area','vol','T','Pressão']].rename(columns={'Pressão':'Pressao'})\n",
        "X_norm=MinMaxScaler().fit(X_td).transform(X)\n"
      ],
      "metadata": {
        "id": "K3a_Cw0S1J4U"
      },
      "execution_count": null,
      "outputs": []
    },
    {
      "cell_type": "code",
      "source": [
        "Y=modelo.predict(X_norm)\n",
        "Previsao=pd.DataFrame(Y).to_excel('Previsão_dados_reais-1C.xlsx')"
      ],
      "metadata": {
        "id": "U52EEz0y1J8i",
        "colab": {
          "base_uri": "https://localhost:8080/"
        },
        "outputId": "39ee211a-1d79-488b-912d-1a315d21ff81"
      },
      "execution_count": null,
      "outputs": [
        {
          "output_type": "stream",
          "name": "stdout",
          "text": [
            "21/21 [==============================] - 0s 1ms/step\n"
          ]
        }
      ]
    },
    {
      "cell_type": "code",
      "source": [
        "X_norm=MinMaxScaler().fit(X_td).transform(X)"
      ],
      "metadata": {
        "id": "6Lr3nF-g1KB7"
      },
      "execution_count": null,
      "outputs": []
    },
    {
      "cell_type": "code",
      "source": [
        "Y_prev=modelo.predict(X_norm)\n",
        "plt.scatter(Y,Y_prev)"
      ],
      "metadata": {
        "colab": {
          "base_uri": "https://localhost:8080/",
          "height": 300
        },
        "id": "fDUtZBK21KG6",
        "outputId": "1e8a03e7-42a5-470e-d620-37c82fa61040"
      },
      "execution_count": null,
      "outputs": [
        {
          "output_type": "stream",
          "name": "stdout",
          "text": [
            "21/21 [==============================] - 0s 1ms/step\n"
          ]
        },
        {
          "output_type": "execute_result",
          "data": {
            "text/plain": [
              "<matplotlib.collections.PathCollection at 0x7f82a87adf50>"
            ]
          },
          "metadata": {},
          "execution_count": 15
        },
        {
          "output_type": "display_data",
          "data": {
            "text/plain": [
              "<Figure size 432x288 with 1 Axes>"
            ],
            "image/png": "[encoded data removed]"
          },
          "metadata": {
            "needs_background": "light"
          }
        }
      ]
    },
    {
      "cell_type": "code",
      "source": [
        "def graf(areaa):\n",
        "  Pressao=np.arange(0.1,20,0.01)\n",
        "  X_dados=pd.DataFrame(Pressao).rename(columns={0:'Pressao'})\n",
        "  X_dados['vol']=X_td.vol.mean()\n",
        "  X_dados['T']=X_td['T'].mean()\n",
        "  X_dados['area']=areaa\n",
        "  X_dados=X_dados[['area','vol','T','Pressao']]\n",
        "  X_dados_norm=MinMaxScaler().fit(X_td).transform(X_dados)\n",
        "  return [modelo.predict(X_dados_norm),X_dados.Pressao]"
      ],
      "metadata": {
        "id": "5Aa9yagechVT"
      },
      "execution_count": null,
      "outputs": []
    },
    {
      "cell_type": "code",
      "source": [
        "def prev(areaa,Pressao):\n",
        "  #Pressao=np.arange(0.1,20,0.01)\n",
        "  X_dados=pd.DataFrame(Pressao).rename(columns={0:'Pressao'})\n",
        "  X_dados['vol']=X_td.vol.mean()\n",
        "  X_dados['T']=X_td['T'].mean()\n",
        "  X_dados['area']=areaa\n",
        "  X_dados=X_dados[['area','vol','T','Pressao']]\n",
        "  X_dados_norm=MinMaxScaler().fit(X_td).transform(X_dados)\n",
        "  return modelo.predict(X_dados_norm)"
      ],
      "metadata": {
        "id": "avxuglhzk74l"
      },
      "execution_count": null,
      "outputs": []
    },
    {
      "cell_type": "code",
      "source": [
        "for i in range(1,100):\n",
        "  plt.plot(graf(800+i*1)[1],graf(800+i*1)[0])\n",
        "plt.legend()"
      ],
      "metadata": {
        "colab": {
          "base_uri": "https://localhost:8080/",
          "height": 300
        },
        "id": "ac94IesLhFm4",
        "outputId": "ccb62e65-c7a8-4b27-ee2b-6766ea43678b"
      },
      "execution_count": null,
      "outputs": [
        {
          "output_type": "stream",
          "name": "stderr",
          "text": [
            "WARNING:matplotlib.legend:No handles with labels found to put in legend.\n"
          ]
        },
        {
          "output_type": "execute_result",
          "data": {
            "text/plain": [
              "<matplotlib.legend.Legend at 0x7f1fd9947c50>"
            ]
          },
          "metadata": {},
          "execution_count": 83
        },
        {
          "output_type": "display_data",
          "data": {
            "text/plain": [
              "<Figure size 432x288 with 1 Axes>"
            ],
            "image/png": "[encoded data removed]"
          },
          "metadata": {
            "needs_background": "light"
          }
        }
      ]
    },
    {
      "cell_type": "markdown",
      "source": [
        "Geração Gráfico Parametrico\n",
        ""
      ],
      "metadata": {
        "id": "x5JlLEqffe_q"
      }
    },
    {
      "cell_type": "code",
      "source": [
        "from keras.saving.save import load_model\n",
        "modelo=load_model('/content/model1cm-145-v2.h5')\n",
        "#modelo.predict()"
      ],
      "metadata": {
        "id": "7V-4Nfe2flZ1"
      },
      "execution_count": null,
      "outputs": []
    },
    {
      "cell_type": "code",
      "source": [
        "def prev(areaa,Pressao):\n",
        "  #Pressao=np.arange(0.1,20,0.01)\n",
        "  X_dados=pd.DataFrame(Pressao).rename(columns={0:'Pressao'})\n",
        "  X_dados['vol']=X_td.vol.mean()\n",
        "  #X_dados['T']=X_td['T'].mean()\n",
        "  #X_dados['vol']=0.1\n",
        "  X_dados['T']=314\n",
        "  X_dados['area']=areaa\n",
        "  X_dados=X_dados[['area','vol','T','Pressao']]\n",
        "  X_dados_norm=MinMaxScaler().fit(X_td).transform(X_dados)\n",
        "  return modelo.predict(X_dados_norm)\n",
        "\n",
        "\n",
        "\n",
        "import numpy as np\n",
        "import matplotlib.pyplot as plt\n",
        "from matplotlib.collections import LineCollection\n",
        "\n",
        "\n",
        "def multiline(xs, ys, c, ax=None, **kwargs):\n",
        "    \"\"\"Plot lines with different colorings\n",
        "\n",
        "    Parameters\n",
        "    ----------\n",
        "    xs : iterable container of x coordinates\n",
        "    ys : iterable container of y coordinates\n",
        "    c : iterable container of numbers mapped to colormap\n",
        "    ax (optional): Axes to plot on.\n",
        "    kwargs (optional): passed to LineCollection\n",
        "\n",
        "    Notes:\n",
        "        len(xs) == len(ys) == len(c) is the number of line segments\n",
        "        len(xs[i]) == len(ys[i]) is the number of points for each line (indexed by i)\n",
        "\n",
        "    Returns\n",
        "    -------\n",
        "    lc : LineCollection instance.\n",
        "    \"\"\"\n",
        "\n",
        "    # find axes\n",
        "    ax = plt.gca() if ax is None else ax\n",
        "\n",
        "    # create LineCollection\n",
        "    segments = [np.column_stack([x, y]) for x, y in zip(xs, ys)]\n",
        "    lc = LineCollection(segments, **kwargs)\n",
        "\n",
        "    # set coloring of line segments\n",
        "    #    Note: I get an error if I pass c as a list here... not sure why.\n",
        "    lc.set_array(np.asarray(c))\n",
        "\n",
        "    # add lines to axes and rescale\n",
        "    #    Note: adding a collection doesn't autoscalee xlim/ylim\n",
        "    ax.add_collection(lc)\n",
        "    ax.autoscale()\n",
        "    return lc\n",
        "\n",
        "\n",
        "\n",
        "\n",
        "\n"
      ],
      "metadata": {
        "id": "cvoXmalvflme"
      },
      "execution_count": null,
      "outputs": []
    },
    {
      "cell_type": "code",
      "source": [
        "n_lines = 150\n",
        "Pressao=np.arange(0.1,30,0.01)\n",
        "\n",
        "yint = np.arange(800,800+ n_lines*10, 10)\n",
        "\n",
        "xs = np.array([Pressao for i in range(n_lines)])\n",
        "ys=()\n",
        "for i in range(n_lines):\n",
        "  ys=np.append(ys,prev(800+i*10,Pressao))\n",
        "colors = np.arange(n_lines)\n",
        "\n",
        "ys=ys.reshape(n_lines,xs.shape[1])\n",
        "fig, ax = plt.subplots()\n",
        "lc = multiline(xs, ys, yint, cmap='jet', lw=2)\n",
        "\n",
        "axcb = fig.colorbar(lc)\n",
        "axcb.set_label('Área (m\\u00b2/g)')\n",
        "ax.set_title('Adsorção')\n",
        "plt.ylabel('Adsorção (mmol/g)')\n",
        "plt.xlabel('Pressão (bar)')\n",
        "plt.rcParams[\"font.family\"] = \"Arial\"\n",
        "plt.rcParams.update({'font.size': 14})\n",
        "#plt.figure(figsize=(150, 150))\n",
        "plt.ylim(top=18)\n",
        "plt.figure(figsize=(150, 150))\n",
        "fig.savefig('Temp_Média.png')\n"
      ],
      "metadata": {
        "colab": {
          "base_uri": "https://localhost:8080/",
          "height": 1000
        },
        "id": "FdQIhqkui7vi",
        "outputId": "5f4ae6ac-139b-4d32-b642-959f5b0ca5ba"
      },
      "execution_count": null,
      "outputs": [
        {
          "output_type": "stream",
          "name": "stdout",
          "text": [
            "94/94 [==============================] - 0s 1ms/step\n",
            "94/94 [==============================] - 0s 1ms/step\n",
            "94/94 [==============================] - 0s 1ms/step\n",
            "94/94 [==============================] - 0s 1ms/step\n",
            "94/94 [==============================] - 0s 1ms/step\n",
            "94/94 [==============================] - 0s 1ms/step\n",
            "94/94 [==============================] - 0s 1ms/step\n",
            "94/94 [==============================] - 0s 1ms/step\n",
            "94/94 [==============================] - 0s 1ms/step\n",
            "94/94 [==============================] - 0s 1ms/step\n",
            "94/94 [==============================] - 0s 1ms/step\n",
            "94/94 [==============================] - 0s 1ms/step\n",
            "94/94 [==============================] - 0s 1ms/step\n",
            "94/94 [==============================] - 0s 1ms/step\n",
            "94/94 [==============================] - 0s 1ms/step\n",
            "94/94 [==============================] - 0s 1ms/step\n",
            "94/94 [==============================] - 0s 1ms/step\n",
            "94/94 [==============================] - 0s 1ms/step\n",
            "94/94 [==============================] - 0s 1ms/step\n",
            "94/94 [==============================] - 0s 1ms/step\n",
            "94/94 [==============================] - 0s 1ms/step\n",
            "94/94 [==============================] - 0s 1ms/step\n",
            "94/94 [==============================] - 0s 1ms/step\n",
            "94/94 [==============================] - 0s 1ms/step\n",
            "94/94 [==============================] - 0s 1ms/step\n",
            "94/94 [==============================] - 0s 1ms/step\n",
            "94/94 [==============================] - 0s 1ms/step\n",
            "94/94 [==============================] - 0s 1ms/step\n",
            "94/94 [==============================] - 0s 1ms/step\n",
            "94/94 [==============================] - 0s 1ms/step\n",
            "94/94 [==============================] - 0s 1ms/step\n",
            "94/94 [==============================] - 0s 1ms/step\n",
            "94/94 [==============================] - 0s 1ms/step\n",
            "94/94 [==============================] - 0s 1ms/step\n",
            "94/94 [==============================] - 0s 1ms/step\n",
            "94/94 [==============================] - 0s 1ms/step\n",
            "94/94 [==============================] - 0s 1ms/step\n",
            "94/94 [==============================] - 0s 1ms/step\n",
            "94/94 [==============================] - 0s 1ms/step\n",
            "94/94 [==============================] - 0s 1ms/step\n",
            "94/94 [==============================] - 0s 1ms/step\n",
            "94/94 [==============================] - 0s 1ms/step\n",
            "94/94 [==============================] - 0s 1ms/step\n",
            "94/94 [==============================] - 0s 1ms/step\n",
            "94/94 [==============================] - 0s 1ms/step\n",
            "94/94 [==============================] - 0s 1ms/step\n",
            "94/94 [==============================] - 0s 1ms/step\n",
            "94/94 [==============================] - 0s 1ms/step\n",
            "94/94 [==============================] - 0s 1ms/step\n",
            "94/94 [==============================] - 0s 1ms/step\n",
            "94/94 [==============================] - 0s 1ms/step\n",
            "94/94 [==============================] - 0s 1ms/step\n",
            "94/94 [==============================] - 0s 1ms/step\n",
            "94/94 [==============================] - 0s 1ms/step\n",
            "94/94 [==============================] - 0s 1ms/step\n",
            "94/94 [==============================] - 0s 1ms/step\n",
            "94/94 [==============================] - 0s 1ms/step\n",
            "94/94 [==============================] - 0s 1ms/step\n",
            "94/94 [==============================] - 0s 1ms/step\n",
            "94/94 [==============================] - 0s 1ms/step\n",
            "94/94 [==============================] - 0s 1ms/step\n",
            "94/94 [==============================] - 0s 1ms/step\n",
            "94/94 [==============================] - 0s 1ms/step\n",
            "94/94 [==============================] - 0s 1ms/step\n",
            "94/94 [==============================] - 0s 1ms/step\n",
            "94/94 [==============================] - 0s 1ms/step\n",
            "94/94 [==============================] - 0s 1ms/step\n",
            "94/94 [==============================] - 0s 1ms/step\n",
            "94/94 [==============================] - 0s 1ms/step\n",
            "94/94 [==============================] - 0s 1ms/step\n",
            "94/94 [==============================] - 0s 1ms/step\n",
            "94/94 [==============================] - 0s 1ms/step\n",
            "94/94 [==============================] - 0s 1ms/step\n",
            "94/94 [==============================] - 0s 1ms/step\n",
            "94/94 [==============================] - 0s 1ms/step\n",
            "94/94 [==============================] - 0s 1ms/step\n",
            "94/94 [==============================] - 0s 1ms/step\n",
            "94/94 [==============================] - 0s 1ms/step\n",
            "94/94 [==============================] - 0s 1ms/step\n",
            "94/94 [==============================] - 0s 1ms/step\n",
            "94/94 [==============================] - 0s 1ms/step\n",
            "94/94 [==============================] - 0s 1ms/step\n",
            "94/94 [==============================] - 0s 1ms/step\n",
            "94/94 [==============================] - 0s 1ms/step\n",
            "94/94 [==============================] - 0s 1ms/step\n",
            "94/94 [==============================] - 0s 1ms/step\n",
            "94/94 [==============================] - 0s 1ms/step\n",
            "94/94 [==============================] - 0s 1ms/step\n",
            "94/94 [==============================] - 0s 1ms/step\n",
            "94/94 [==============================] - 0s 1ms/step\n",
            "94/94 [==============================] - 0s 1ms/step\n",
            "94/94 [==============================] - 0s 1ms/step\n",
            "94/94 [==============================] - 0s 1ms/step\n",
            "94/94 [==============================] - 0s 1ms/step\n",
            "94/94 [==============================] - 0s 1ms/step\n",
            "94/94 [==============================] - 0s 1ms/step\n",
            "94/94 [==============================] - 0s 1ms/step\n",
            "94/94 [==============================] - 0s 1ms/step\n",
            "94/94 [==============================] - 0s 1ms/step\n",
            "94/94 [==============================] - 0s 1ms/step\n",
            "94/94 [==============================] - 0s 1ms/step\n",
            "94/94 [==============================] - 0s 1ms/step\n",
            "94/94 [==============================] - 0s 1ms/step\n",
            "94/94 [==============================] - 0s 1ms/step\n",
            "94/94 [==============================] - 0s 1ms/step\n",
            "94/94 [==============================] - 0s 1ms/step\n",
            "94/94 [==============================] - 0s 1ms/step\n",
            "94/94 [==============================] - 0s 1ms/step\n",
            "94/94 [==============================] - 0s 1ms/step\n",
            "94/94 [==============================] - 0s 1ms/step\n",
            "94/94 [==============================] - 0s 1ms/step\n",
            "94/94 [==============================] - 0s 1ms/step\n",
            "94/94 [==============================] - 0s 1ms/step\n",
            "94/94 [==============================] - 0s 1ms/step\n",
            "94/94 [==============================] - 0s 1ms/step\n",
            "94/94 [==============================] - 0s 1ms/step\n",
            "94/94 [==============================] - 0s 1ms/step\n",
            "94/94 [==============================] - 0s 1ms/step\n",
            "94/94 [==============================] - 0s 1ms/step\n",
            "94/94 [==============================] - 0s 1ms/step\n",
            "94/94 [==============================] - 0s 1ms/step\n",
            "94/94 [==============================] - 0s 1ms/step\n",
            "94/94 [==============================] - 0s 1ms/step\n",
            "94/94 [==============================] - 0s 1ms/step\n",
            "94/94 [==============================] - 0s 2ms/step\n",
            "94/94 [==============================] - 0s 1ms/step\n",
            "94/94 [==============================] - 0s 1ms/step\n",
            "94/94 [==============================] - 0s 1ms/step\n",
            "94/94 [==============================] - 0s 1ms/step\n",
            "94/94 [==============================] - 0s 1ms/step\n",
            "94/94 [==============================] - 0s 1ms/step\n",
            "94/94 [==============================] - 0s 1ms/step\n",
            "94/94 [==============================] - 0s 1ms/step\n",
            "94/94 [==============================] - 0s 1ms/step\n",
            "94/94 [==============================] - 0s 1ms/step\n",
            "94/94 [==============================] - 0s 2ms/step\n",
            "94/94 [==============================] - 0s 1ms/step\n",
            "94/94 [==============================] - 0s 1ms/step\n",
            "94/94 [==============================] - 0s 1ms/step\n",
            "94/94 [==============================] - 0s 1ms/step\n",
            "94/94 [==============================] - 0s 1ms/step\n",
            "94/94 [==============================] - 0s 1ms/step\n",
            "94/94 [==============================] - 0s 1ms/step\n",
            "94/94 [==============================] - 0s 1ms/step\n",
            "94/94 [==============================] - 0s 1ms/step\n",
            "94/94 [==============================] - 0s 2ms/step\n",
            "94/94 [==============================] - 0s 1ms/step\n",
            "94/94 [==============================] - 0s 1ms/step\n",
            "94/94 [==============================] - 0s 1ms/step\n",
            "94/94 [==============================] - 0s 1ms/step\n"
          ]
        },
        {
          "output_type": "display_data",
          "data": {
            "text/plain": [
              "<Figure size 432x288 with 2 Axes>"
            ],
            "image/png": "[encoded data removed]"
          },
          "metadata": {
            "needs_background": "light"
          }
        },
        {
          "output_type": "display_data",
          "data": {
            "text/plain": [
              "<Figure size 10800x10800 with 0 Axes>"
            ]
          },
          "metadata": {}
        }
      ]
    },
    {
      "cell_type": "code",
      "source": [
        "def prev(vol,Pressao):\n",
        "  #Pressao=np.arange(0.1,20,0.01)\n",
        "  X_dados=pd.DataFrame(Pressao).rename(columns={0:'Pressao'})\n",
        "  X_dados['vol']=vol\n",
        "  #X_dados['T']=X_td['T'].mean()\n",
        "  #X_dados['vol']=0.1\n",
        "  X_dados['T']=306\n",
        "  #X_dados['area']=X_td.area.mean()\n",
        "  X_dados['area']=2000\n",
        "  X_dados=X_dados[['area','vol','T','Pressao']]\n",
        "  X_dados_norm=MinMaxScaler().fit(X_td).transform(X_dados)\n",
        "  return modelo.predict(X_dados_norm)\n",
        "\n",
        "\n",
        "\n",
        "import numpy as np\n",
        "import matplotlib.pyplot as plt\n",
        "from matplotlib.collections import LineCollection\n",
        "\n",
        "\n",
        "def multiline(xs, ys, c, ax=None, **kwargs):\n",
        "    \"\"\"Plot lines with different colorings\n",
        "\n",
        "    Parameters\n",
        "    ----------\n",
        "    xs : iterable container of x coordinates\n",
        "    ys : iterable container of y coordinates\n",
        "    c : iterable container of numbers mapped to colormap\n",
        "    ax (optional): Axes to plot on.\n",
        "    kwargs (optional): passed to LineCollection\n",
        "\n",
        "    Notes:\n",
        "        len(xs) == len(ys) == len(c) is the number of line segments\n",
        "        len(xs[i]) == len(ys[i]) is the number of points for each line (indexed by i)\n",
        "\n",
        "    Returns\n",
        "    -------\n",
        "    lc : LineCollection instance.\n",
        "    \"\"\"\n",
        "\n",
        "    # find axes\n",
        "    ax = plt.gca() if ax is None else ax\n",
        "\n",
        "    # create LineCollection\n",
        "    segments = [np.column_stack([x, y]) for x, y in zip(xs, ys)]\n",
        "    lc = LineCollection(segments, **kwargs)\n",
        "\n",
        "    # set coloring of line segments\n",
        "    #    Note: I get an error if I pass c as a list here... not sure why.\n",
        "    lc.set_array(np.asarray(c))\n",
        "\n",
        "    # add lines to axes and rescale\n",
        "    #    Note: adding a collection doesn't autoscalee xlim/ylim\n",
        "    ax.add_collection(lc)\n",
        "    ax.autoscale()\n",
        "    return lc"
      ],
      "metadata": {
        "id": "pi62PQCRfjmQ"
      },
      "execution_count": null,
      "outputs": []
    },
    {
      "cell_type": "code",
      "source": [
        "n_lines = 120\n",
        "Pressao=np.arange(0.1,30,0.01)\n",
        "\n",
        "yint = np.arange(0.2,0.2+ n_lines*0.005, 0.005)\n",
        "\n",
        "xs = np.array([Pressao for i in range(n_lines)])\n",
        "ys=()\n",
        "for i in range(n_lines):\n",
        "  ys=np.append(ys,prev(0.2+i*0.005,Pressao))\n",
        "colors = np.arange(n_lines)\n",
        "\n",
        "ys=ys.reshape(n_lines,xs.shape[1])\n",
        "fig, ax = plt.subplots()\n",
        "lc = multiline(xs, ys, yint, cmap='jet', lw=2)\n",
        "\n",
        "axcb = fig.colorbar(lc)\n",
        "axcb.set_label('Volume (cm\\u00b3/g)')\n",
        "ax.set_title('Adsorção')\n",
        "plt.ylabel('Adsorção (mmol/g)')\n",
        "plt.xlabel('Pressão (bar)')\n",
        "plt.rcParams[\"font.family\"] = \"Arial\"\n",
        "plt.rcParams.update({'font.size': 14})\n",
        "#plt.figure(figsize=(150, 150))\n",
        "plt.ylim(0,18)\n",
        "plt.figure(figsize=(150, 150))\n",
        "fig.savefig('Temp_Média.png')\n"
      ],
      "metadata": {
        "colab": {
          "base_uri": "https://localhost:8080/",
          "height": 1000
        },
        "id": "al4lfbW3-4Cb",
        "outputId": "725445f2-92b3-48a4-dd13-b66acd2f4e50"
      },
      "execution_count": null,
      "outputs": [
        {
          "output_type": "stream",
          "name": "stdout",
          "text": [
            "94/94 [==============================] - 0s 1ms/step\n",
            "94/94 [==============================] - 0s 1ms/step\n",
            "94/94 [==============================] - 0s 1ms/step\n",
            "94/94 [==============================] - 0s 1ms/step\n",
            "94/94 [==============================] - 0s 1ms/step\n",
            "94/94 [==============================] - 0s 1ms/step\n",
            "94/94 [==============================] - 0s 1ms/step\n",
            "94/94 [==============================] - 0s 1ms/step\n",
            "94/94 [==============================] - 0s 1ms/step\n",
            "94/94 [==============================] - 0s 1ms/step\n",
            "94/94 [==============================] - 0s 1ms/step\n",
            "94/94 [==============================] - 0s 1ms/step\n",
            "94/94 [==============================] - 0s 1ms/step\n",
            "94/94 [==============================] - 0s 1ms/step\n",
            "94/94 [==============================] - 0s 1ms/step\n",
            "94/94 [==============================] - 0s 2ms/step\n",
            "94/94 [==============================] - 0s 1ms/step\n",
            "94/94 [==============================] - 0s 1ms/step\n",
            "94/94 [==============================] - 0s 1ms/step\n",
            "94/94 [==============================] - 0s 1ms/step\n",
            "94/94 [==============================] - 0s 1ms/step\n",
            "94/94 [==============================] - 0s 1ms/step\n",
            "94/94 [==============================] - 0s 1ms/step\n",
            "94/94 [==============================] - 0s 1ms/step\n",
            "94/94 [==============================] - 0s 1ms/step\n",
            "94/94 [==============================] - 0s 1ms/step\n",
            "94/94 [==============================] - 0s 1ms/step\n",
            "94/94 [==============================] - 0s 1ms/step\n",
            "94/94 [==============================] - 0s 1ms/step\n",
            "94/94 [==============================] - 0s 1ms/step\n",
            "94/94 [==============================] - 0s 1ms/step\n",
            "94/94 [==============================] - 0s 1ms/step\n",
            "94/94 [==============================] - 0s 1ms/step\n",
            "94/94 [==============================] - 0s 1ms/step\n",
            "94/94 [==============================] - 0s 1ms/step\n",
            "94/94 [==============================] - 0s 1ms/step\n",
            "94/94 [==============================] - 0s 1ms/step\n",
            "94/94 [==============================] - 0s 1ms/step\n",
            "94/94 [==============================] - 0s 1ms/step\n",
            "94/94 [==============================] - 0s 1ms/step\n",
            "94/94 [==============================] - 0s 1ms/step\n",
            "94/94 [==============================] - 0s 1ms/step\n",
            "94/94 [==============================] - 0s 1ms/step\n",
            "94/94 [==============================] - 0s 1ms/step\n",
            "94/94 [==============================] - 0s 1ms/step\n",
            "94/94 [==============================] - 0s 1ms/step\n",
            "94/94 [==============================] - 0s 1ms/step\n",
            "94/94 [==============================] - 0s 1ms/step\n",
            "94/94 [==============================] - 0s 1ms/step\n",
            "94/94 [==============================] - 0s 1ms/step\n",
            "94/94 [==============================] - 0s 1ms/step\n",
            "94/94 [==============================] - 0s 1ms/step\n",
            "94/94 [==============================] - 0s 1ms/step\n",
            "94/94 [==============================] - 0s 1ms/step\n",
            "94/94 [==============================] - 0s 1ms/step\n",
            "94/94 [==============================] - 0s 1ms/step\n",
            "94/94 [==============================] - 0s 2ms/step\n",
            "94/94 [==============================] - 0s 1ms/step\n",
            "94/94 [==============================] - 0s 1ms/step\n",
            "94/94 [==============================] - 0s 1ms/step\n",
            "94/94 [==============================] - 0s 1ms/step\n",
            "94/94 [==============================] - 0s 1ms/step\n",
            "94/94 [==============================] - 0s 1ms/step\n",
            "94/94 [==============================] - 0s 1ms/step\n",
            "94/94 [==============================] - 0s 1ms/step\n",
            "94/94 [==============================] - 0s 1ms/step\n",
            "94/94 [==============================] - 0s 1ms/step\n",
            "94/94 [==============================] - 0s 1ms/step\n",
            "94/94 [==============================] - 0s 1ms/step\n",
            "94/94 [==============================] - 0s 1ms/step\n",
            "94/94 [==============================] - 0s 1ms/step\n",
            "94/94 [==============================] - 0s 1ms/step\n",
            "94/94 [==============================] - 0s 1ms/step\n",
            "94/94 [==============================] - 0s 1ms/step\n",
            "94/94 [==============================] - 0s 1ms/step\n",
            "94/94 [==============================] - 0s 1ms/step\n",
            "94/94 [==============================] - 0s 1ms/step\n",
            "94/94 [==============================] - 0s 1ms/step\n",
            "94/94 [==============================] - 0s 1ms/step\n",
            "94/94 [==============================] - 0s 1ms/step\n",
            "94/94 [==============================] - 0s 1ms/step\n",
            "94/94 [==============================] - 0s 1ms/step\n",
            "94/94 [==============================] - 0s 1ms/step\n",
            "94/94 [==============================] - 0s 1ms/step\n",
            "94/94 [==============================] - 0s 1ms/step\n",
            "94/94 [==============================] - 0s 1ms/step\n",
            "94/94 [==============================] - 0s 1ms/step\n",
            "94/94 [==============================] - 0s 1ms/step\n",
            "94/94 [==============================] - 0s 1ms/step\n",
            "94/94 [==============================] - 0s 1ms/step\n",
            "94/94 [==============================] - 0s 1ms/step\n",
            "94/94 [==============================] - 0s 1ms/step\n",
            "94/94 [==============================] - 0s 1ms/step\n",
            "94/94 [==============================] - 0s 1ms/step\n",
            "94/94 [==============================] - 0s 2ms/step\n",
            "94/94 [==============================] - 0s 1ms/step\n",
            "94/94 [==============================] - 0s 1ms/step\n",
            "94/94 [==============================] - 0s 1ms/step\n",
            "94/94 [==============================] - 0s 1ms/step\n",
            "94/94 [==============================] - 0s 1ms/step\n",
            "94/94 [==============================] - 0s 2ms/step\n",
            "94/94 [==============================] - 0s 1ms/step\n",
            "94/94 [==============================] - 0s 1ms/step\n",
            "94/94 [==============================] - 0s 1ms/step\n",
            "94/94 [==============================] - 0s 1ms/step\n",
            "94/94 [==============================] - 0s 1ms/step\n",
            "94/94 [==============================] - 0s 1ms/step\n",
            "94/94 [==============================] - 0s 1ms/step\n",
            "94/94 [==============================] - 0s 1ms/step\n",
            "94/94 [==============================] - 0s 1ms/step\n",
            "94/94 [==============================] - 0s 1ms/step\n",
            "94/94 [==============================] - 0s 1ms/step\n",
            "94/94 [==============================] - 0s 1ms/step\n",
            "94/94 [==============================] - 0s 1ms/step\n",
            "94/94 [==============================] - 0s 1ms/step\n",
            "94/94 [==============================] - 0s 2ms/step\n",
            "94/94 [==============================] - 0s 1ms/step\n",
            "94/94 [==============================] - 0s 2ms/step\n",
            "94/94 [==============================] - 0s 1ms/step\n",
            "94/94 [==============================] - 0s 1ms/step\n"
          ]
        },
        {
          "output_type": "display_data",
          "data": {
            "text/plain": [
              "<Figure size 432x288 with 2 Axes>"
            ],
            "image/png": "[encoded data removed]"
          },
          "metadata": {
            "needs_background": "light"
          }
        },
        {
          "output_type": "display_data",
          "data": {
            "text/plain": [
              "<Figure size 10800x10800 with 0 Axes>"
            ]
          },
          "metadata": {}
        }
      ]
    },
    {
      "cell_type": "code",
      "source": [
        "lista=[1,2,3,4,8]"
      ],
      "metadata": {
        "id": "tTaH7-JtAUVX"
      },
      "execution_count": null,
      "outputs": []
    },
    {
      "cell_type": "code",
      "source": [
        "if len(lista)%2==0:\n",
        "  print(lista[0])\n",
        "else:\n",
        "  print(lista[-1])"
      ],
      "metadata": {
        "colab": {
          "base_uri": "https://localhost:8080/"
        },
        "id": "qmdIYzxadgxc",
        "outputId": "ccd67902-c639-470d-cc78-def0feeda1f7"
      },
      "execution_count": null,
      "outputs": [
        {
          "output_type": "stream",
          "name": "stdout",
          "text": [
            "8\n"
          ]
        }
      ]
    },
    {
      "cell_type": "code",
      "source": [
        "from keras.saving.save import load_model"
      ],
      "metadata": {
        "id": "eMXUOlFVd3Sw",
        "colab": {
          "base_uri": "https://localhost:8080/",
          "height": 304
        },
        "outputId": "30f5ae45-9e88-4ff9-c24e-9100d5941ee3"
      },
      "execution_count": null,
      "outputs": [
        {
          "output_type": "error",
          "ename": "ModuleNotFoundError",
          "evalue": "ignored",
          "traceback": [
            "\u001b[0;31m---------------------------------------------------------------------------\u001b[0m",
            "\u001b[0;31mModuleNotFoundError\u001b[0m                       Traceback (most recent call last)",
            "\u001b[0;32m<ipython-input-1-4e266116233b>\u001b[0m in \u001b[0;36m<cell line: 1>\u001b[0;34m()\u001b[0m\n\u001b[0;32m----> 1\u001b[0;31m \u001b[0;32mfrom\u001b[0m \u001b[0mkeras\u001b[0m\u001b[0;34m.\u001b[0m\u001b[0msaving\u001b[0m\u001b[0;34m.\u001b[0m\u001b[0msave\u001b[0m \u001b[0;32mimport\u001b[0m \u001b[0mload_model\u001b[0m\u001b[0;34m\u001b[0m\u001b[0;34m\u001b[0m\u001b[0m\n\u001b[0m",
            "\u001b[0;31mModuleNotFoundError\u001b[0m: No module named 'keras.saving.save'",
            "",
            "\u001b[0;31m---------------------------------------------------------------------------\u001b[0;32m\nNOTE: If your import is failing due to a missing package, you can\nmanually install dependencies using either !pip or !apt.\n\nTo view examples of installing some common dependencies, click the\n\"Open Examples\" button below.\n\u001b[0;31m---------------------------------------------------------------------------\u001b[0m\n"
          ],
          "errorDetails": {
            "actions": [
              {
                "action": "open_url",
                "actionText": "Open Examples",
                "url": "/notebooks/snippets/importing_libraries.ipynb"
              }
            ]
          }
        }
      ]
    },
    {
      "cell_type": "code",
      "source": [
        "from tensorflow import keras\n",
        "model = keras.models.load_model('/content/bp_model1cm.h5')"
      ],
      "metadata": {
        "id": "SREa8rrsW6Zd"
      },
      "execution_count": null,
      "outputs": []
    },
    {
      "cell_type": "code",
      "source": [
        "import tensorflowjs as tfjs"
      ],
      "metadata": {
        "id": "wEX14GGIXfUs"
      },
      "execution_count": null,
      "outputs": []
    },
    {
      "cell_type": "code",
      "source": [
        "tfjs.converters.save_keras_model(model,\"/content/\")"
      ],
      "metadata": {
        "id": "NvheYJu0Xi_F"
      },
      "execution_count": null,
      "outputs": []
    },
    {
      "cell_type": "code",
      "source": [],
      "metadata": {
        "id": "9dyJPrddX6c9"
      },
      "execution_count": null,
      "outputs": []
    }
  ]
}